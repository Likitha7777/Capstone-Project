{
  "nbformat": 4,
  "nbformat_minor": 0,
  "metadata": {
    "colab": {
      "provenance": [],
      "machine_shape": "hm"
    },
    "kernelspec": {
      "name": "python3",
      "display_name": "Python 3"
    },
    "language_info": {
      "name": "python"
    },
    "accelerator": "GPU",
    "gpuClass": "premium"
  },
  "cells": [
    {
      "cell_type": "code",
      "source": [
        "%%shell\n",
        "jupyter nbconvert --to html /content/cappii.ipynb"
      ],
      "metadata": {
        "colab": {
          "base_uri": "https://localhost:8080/"
        },
        "id": "P3fxEB4j9PGH",
        "outputId": "4842d59f-1bd0-4a77-b438-ba6db38d503d"
      },
      "execution_count": 28,
      "outputs": [
        {
          "output_type": "stream",
          "name": "stdout",
          "text": [
            "[NbConvertApp] Converting notebook /content/cappii.ipynb to html\n",
            "[NbConvertApp] Writing 399869 bytes to /content/cappii.html\n"
          ]
        },
        {
          "output_type": "execute_result",
          "data": {
            "text/plain": []
          },
          "metadata": {},
          "execution_count": 28
        }
      ]
    },
    {
      "cell_type": "markdown",
      "source": [
        "**Installing Virtual Environment**"
      ],
      "metadata": {
        "id": "WSjlbRr64b0e"
      }
    },
    {
      "cell_type": "code",
      "execution_count": 9,
      "metadata": {
        "colab": {
          "base_uri": "https://localhost:8080/"
        },
        "id": "5NCHPO0lWmvz",
        "outputId": "6290da35-c7b0-4509-b4d6-9f2cb2ed8489"
      },
      "outputs": [
        {
          "output_type": "stream",
          "name": "stdout",
          "text": [
            "Looking in indexes: https://pypi.org/simple, https://us-python.pkg.dev/colab-wheels/public/simple/\n",
            "Requirement already satisfied: virtualenv in /usr/local/lib/python3.8/dist-packages (20.17.1)\n",
            "Requirement already satisfied: distlib<1,>=0.3.6 in /usr/local/lib/python3.8/dist-packages (from virtualenv) (0.3.6)\n",
            "Requirement already satisfied: filelock<4,>=3.4.1 in /usr/local/lib/python3.8/dist-packages (from virtualenv) (3.8.0)\n",
            "Requirement already satisfied: platformdirs<3,>=2.4 in /usr/local/lib/python3.8/dist-packages (from virtualenv) (2.5.4)\n",
            "created virtual environment CPython3.8.16.final.0-64 in 292ms\n",
            "  creator CPython3Posix(dest=/content/theanoEnv, clear=False, no_vcs_ignore=False, global=False)\n",
            "  seeder FromAppData(download=False, pip=bundle, setuptools=bundle, wheel=bundle, via=copy, app_data_dir=/root/.local/share/virtualenv)\n",
            "    added seed packages: Theano==1.0.5, numpy==1.23.5, pip==22.3.1, robotframework==6.0.1, scipy==1.9.3, setuptools==65.6.3, six==1.16.0, wheel==0.38.4\n",
            "  activators BashActivator,CShellActivator,FishActivator,NushellActivator,PowerShellActivator,PythonActivator\n"
          ]
        }
      ],
      "source": [
        "!pip3 install virtualenv\n",
        "!virtualenv theanoEnv"
      ]
    },
    {
      "cell_type": "markdown",
      "source": [
        "**Activating the Environment**"
      ],
      "metadata": {
        "id": "_mhDBYDH4u8b"
      }
    },
    {
      "cell_type": "code",
      "source": [
        "!source /content/theanoEnv/bin/activate; pip3 install theano"
      ],
      "metadata": {
        "colab": {
          "base_uri": "https://localhost:8080/"
        },
        "id": "KCHg-q6uYb22",
        "outputId": "0bd9e117-ce8f-40e1-bcb0-bf0fc3f4d8f5"
      },
      "execution_count": 10,
      "outputs": [
        {
          "output_type": "stream",
          "name": "stdout",
          "text": [
            "Looking in indexes: https://pypi.org/simple, https://us-python.pkg.dev/colab-wheels/public/simple/\n",
            "Requirement already satisfied: theano in ./theanoEnv/lib/python3.8/site-packages (1.0.5)\n",
            "Requirement already satisfied: six>=1.9.0 in ./theanoEnv/lib/python3.8/site-packages (from theano) (1.16.0)\n",
            "Requirement already satisfied: numpy>=1.9.1 in ./theanoEnv/lib/python3.8/site-packages (from theano) (1.23.5)\n",
            "Requirement already satisfied: scipy>=0.14 in ./theanoEnv/lib/python3.8/site-packages (from theano) (1.9.3)\n"
          ]
        }
      ]
    },
    {
      "cell_type": "code",
      "source": [
        "!source /content/theanoEnv/bin/activate; pip3 list"
      ],
      "metadata": {
        "colab": {
          "base_uri": "https://localhost:8080/"
        },
        "id": "3QI-sgpzYj8E",
        "outputId": "afaf32de-739c-46b4-fb26-ab9947b11828"
      },
      "execution_count": 11,
      "outputs": [
        {
          "output_type": "stream",
          "name": "stdout",
          "text": [
            "Package        Version\n",
            "-------------- -------\n",
            "numpy          1.23.5\n",
            "pip            22.3.1\n",
            "robotframework 6.0.1\n",
            "scipy          1.9.3\n",
            "setuptools     65.6.3\n",
            "six            1.16.0\n",
            "Theano         1.0.5\n",
            "wheel          0.38.4\n"
          ]
        }
      ]
    },
    {
      "cell_type": "code",
      "source": [
        "!source /content/theanoEnv/bin/activate; pip3 install robotframework; pip3 list; python3 -m robot --help"
      ],
      "metadata": {
        "colab": {
          "base_uri": "https://localhost:8080/"
        },
        "id": "FTawa0yzYoCP",
        "outputId": "9f44c09a-517c-4dbc-f01f-5d1af996a36c"
      },
      "execution_count": 12,
      "outputs": [
        {
          "output_type": "stream",
          "name": "stdout",
          "text": [
            "Looking in indexes: https://pypi.org/simple, https://us-python.pkg.dev/colab-wheels/public/simple/\n",
            "Requirement already satisfied: robotframework in ./theanoEnv/lib/python3.8/site-packages (6.0.1)\n",
            "Package        Version\n",
            "-------------- -------\n",
            "numpy          1.23.5\n",
            "pip            22.3.1\n",
            "robotframework 6.0.1\n",
            "scipy          1.9.3\n",
            "setuptools     65.6.3\n",
            "six            1.16.0\n",
            "Theano         1.0.5\n",
            "wheel          0.38.4\n",
            "Robot Framework -- A generic automation framework\n",
            "\n",
            "Version:  6.0.1 (Python 3.8.16 on linux)\n",
            "\n",
            "Usage:  robot [options] paths\n",
            "   or:  python -m robot [options] paths\n",
            "   or:  python path/to/robot [options] paths\n",
            "\n",
            "Robot Framework is a generic open source automation framework for acceptance\n",
            "testing, acceptance test-driven development (ATDD) and robotic process\n",
            "automation (RPA). It has simple, easy-to-use syntax that utilizes the\n",
            "keyword-driven automation approach. Keywords adding new capabilities are\n",
            "implemented in libraries using Python. New higher level\n",
            "keywords can also be created using Robot Framework's own syntax.\n",
            "\n",
            "The easiest way to execute Robot Framework is using the `robot` command created\n",
            "as part of the normal installation. Alternatively it is possible to execute\n",
            "the `robot` module directly like `python -m robot`, where `python` can be\n",
            "replaced with any supported Python interpreter. Yet another alternative\n",
            "is running the `robot` directory like `python path/to/robot`.\n",
            "\n",
            "Tests (or tasks in RPA terminology) are created in files typically having the\n",
            "`*.robot` extension. Files automatically create test (or task) suites and\n",
            "directories with these files create higher level suites. When Robot Framework\n",
            "is executed, paths to these files or directories are given to it as arguments.\n",
            "\n",
            "By default Robot Framework creates an XML output file and a log and a report in\n",
            "HTML format, but this can be configured using various options listed below.\n",
            "Outputs in HTML format are for human consumption and XML output for integration\n",
            "with other systems. XML outputs can also be combined and otherwise further\n",
            "post-processed with the Rebot tool that is an integral part of Robot Framework.\n",
            "Run `rebot --help` for more information.\n",
            "\n",
            "Robot Framework is open source software released under Apache License 2.0.\n",
            "For more information about the framework and the rich ecosystem around it\n",
            "see http://robotframework.org/.\n",
            "\n",
            "Options\n",
            "=======\n",
            "\n",
            "    --rpa                 Turn on the generic automation mode. Mainly affects\n",
            "                          terminology so that \"test\" is replaced with \"task\"\n",
            "                          in logs and reports. By default the mode is got\n",
            "                          from test/task header in data files.\n",
            "    --language lang *     Activate localization. `lang` can be a name or a code\n",
            "                          of a built-in language, or a path or a module name of\n",
            "                          a custom language file.\n",
            " -F --extension value     Parse only files with this extension when executing\n",
            "                          a directory. Has no effect when running individual\n",
            "                          files or when using resource files. If more than one\n",
            "                          extension is needed, separate them with a colon.\n",
            "                          Examples: `--extension txt`, `--extension robot:txt`\n",
            "                          Only `*.robot` files are parsed by default.\n",
            " -N --name name           Set the name of the top level suite. By default the\n",
            "                          name is created based on the executed file or\n",
            "                          directory.\n",
            " -D --doc documentation   Set the documentation of the top level suite.\n",
            "                          Simple formatting is supported (e.g. *bold*). If the\n",
            "                          documentation contains spaces, it must be quoted.\n",
            "                          If the value is path to an existing file, actual\n",
            "                          documentation is read from that file.\n",
            "                          Examples: --doc \"Very *good* example\"\n",
            "                                    --doc doc_from_file.txt\n",
            " -M --metadata name:value *  Set metadata of the top level suite. Value can\n",
            "                          contain formatting and be read from a file similarly\n",
            "                          as --doc. Example: --metadata Version:1.2\n",
            " -G --settag tag *        Sets given tag(s) to all executed tests.\n",
            " -t --test name *         Select tests by name or by long name containing also\n",
            "                          parent suite name like `Parent.Test`. Name is case\n",
            "                          and space insensitive and it can also be a simple\n",
            "                          pattern where `*` matches anything, `?` matches any\n",
            "                          single character, and `[chars]` matches one character\n",
            "                          in brackets.\n",
            "    --task name *         Alias to --test. Especially applicable with --rpa.\n",
            " -s --suite name *        Select suites by name. When this option is used with\n",
            "                          --test, --include or --exclude, only tests in\n",
            "                          matching suites and also matching other filtering\n",
            "                          criteria are selected. Name can be a simple pattern\n",
            "                          similarly as with --test and it can contain parent\n",
            "                          name separated with a dot. For example, `-s X.Y`\n",
            "                          selects suite `Y` only if its parent is `X`.\n",
            " -i --include tag *       Select tests by tag. Similarly as name with --test,\n",
            "                          tag is case and space insensitive and it is possible\n",
            "                          to use patterns with `*`, `?` and `[]` as wildcards.\n",
            "                          Tags and patterns can also be combined together with\n",
            "                          `AND`, `OR`, and `NOT` operators.\n",
            "                          Examples: --include foo --include bar*\n",
            "                                    --include fooANDbar*\n",
            " -e --exclude tag *       Select test cases not to run by tag. These tests are\n",
            "                          not run even if included with --include. Tags are\n",
            "                          matched using same rules as with --include.\n",
            " -R --rerunfailed output  Select failed tests from an earlier output file to be\n",
            "                          re-executed. Equivalent to selecting same tests\n",
            "                          individually using --test.\n",
            " -S --rerunfailedsuites output  Select failed suites from an earlier output\n",
            "                          file to be re-executed.\n",
            "    --runemptysuite       Executes suite even if it contains no tests. Useful\n",
            "                          e.g. with --include/--exclude when it is not an error\n",
            "                          that no test matches the condition.\n",
            "    --skip tag *          Tests having given tag will be skipped. Tag can be\n",
            "                          a pattern.\n",
            "    --skiponfailure tag *  Tests having given tag will be skipped if they fail.\n",
            "                          Tag can be a pattern\n",
            " -v --variable name:value *  Set variables in the test data. Only scalar\n",
            "                          variables with string value are supported and name is\n",
            "                          given without `${}`. See --variablefile for a more\n",
            "                          powerful variable setting mechanism.\n",
            "                          Examples:\n",
            "                          --variable str:Hello       =>  ${str} = `Hello`\n",
            "                          -v hi:Hi_World -E space:_  =>  ${hi} = `Hi World`\n",
            "                          -v x: -v y:42              =>  ${x} = ``, ${y} = `42`\n",
            " -V --variablefile path *  Python or YAML file file to read variables from.\n",
            "                          Possible arguments to the variable file can be given\n",
            "                          after the path using colon or semicolon as separator.\n",
            "                          Examples: --variablefile path/vars.yaml\n",
            "                                    --variablefile environment.py:testing\n",
            " -d --outputdir dir       Where to create output files. The default is the\n",
            "                          directory where tests are run from and the given path\n",
            "                          is considered relative to that unless it is absolute.\n",
            " -o --output file         XML output file. Given path, similarly as paths given\n",
            "                          to --log, --report, --xunit, and --debugfile, is\n",
            "                          relative to --outputdir unless given as an absolute\n",
            "                          path. Other output files are created based on XML\n",
            "                          output files after the test execution and XML outputs\n",
            "                          can also be further processed with Rebot tool. Can be\n",
            "                          disabled by giving a special value `NONE`.\n",
            "                          Default: output.xml\n",
            " -l --log file            HTML log file. Can be disabled by giving a special\n",
            "                          value `NONE`. Default: log.html\n",
            "                          Examples: `--log mylog.html`, `-l NONE`\n",
            " -r --report file         HTML report file. Can be disabled with `NONE`\n",
            "                          similarly as --log. Default: report.html\n",
            " -x --xunit file          xUnit compatible result file. Not created unless this\n",
            "                          option is specified.\n",
            " -b --debugfile file      Debug file written during execution. Not created\n",
            "                          unless this option is specified.\n",
            " -T --timestampoutputs    When this option is used, timestamp in a format\n",
            "                          `YYYYMMDD-hhmmss` is added to all generated output\n",
            "                          files between their basename and extension. For\n",
            "                          example `-T -o output.xml -r report.html -l none`\n",
            "                          creates files like `output-20070503-154410.xml` and\n",
            "                          `report-20070503-154410.html`.\n",
            "    --splitlog            Split the log file into smaller pieces that open in\n",
            "                          browsers transparently.\n",
            "    --logtitle title      Title for the generated log file. The default title\n",
            "                          is `<SuiteName> Log`.\n",
            "    --reporttitle title   Title for the generated report file. The default\n",
            "                          title is `<SuiteName> Report`.\n",
            "    --reportbackground colors  Background colors to use in the report file.\n",
            "                          Given in format `passed:failed:skipped` where the\n",
            "                          `:skipped` part can be omitted. Both color names and\n",
            "                          codes work.\n",
            "                          Examples: --reportbackground green:red:yellow\n",
            "                                    --reportbackground #00E:#E00\n",
            "    --maxerrorlines lines  Maximum number of error message lines to show in\n",
            "                          report when tests fail. Default is 40, minimum is 10\n",
            "                          and `NONE` can be used to show the full message.\n",
            "    --maxassignlength characters  Maximum number of characters to show in log\n",
            "                          when variables are assigned. Zero or negative values\n",
            "                          can be used to avoid showing assigned values at all.\n",
            "                          Default is 200.\n",
            " -L --loglevel level      Threshold level for logging. Available levels: TRACE,\n",
            "                          DEBUG, INFO (default), WARN, NONE (no logging). Use\n",
            "                          syntax `LOGLEVEL:DEFAULT` to define the default\n",
            "                          visible log level in log files.\n",
            "                          Examples: --loglevel DEBUG\n",
            "                                    --loglevel DEBUG:INFO\n",
            "    --suitestatlevel level  How many levels to show in `Statistics by Suite`\n",
            "                          in log and report. By default all suite levels are\n",
            "                          shown. Example:  --suitestatlevel 3\n",
            "    --tagstatinclude tag *  Include only matching tags in `Statistics by Tag`\n",
            "                          in log and report. By default all tags are shown.\n",
            "                          Given tag can be a pattern like with --include.\n",
            "    --tagstatexclude tag *  Exclude matching tags from `Statistics by Tag`.\n",
            "                          This option can be used with --tagstatinclude\n",
            "                          similarly as --exclude is used with --include.\n",
            "    --tagstatcombine tags:name *  Create combined statistics based on tags.\n",
            "                          These statistics are added into `Statistics by Tag`.\n",
            "                          If the optional `name` is not given, name of the\n",
            "                          combined tag is got from the specified tags. Tags are\n",
            "                          matched using the same rules as with --include.\n",
            "                          Examples: --tagstatcombine requirement-*\n",
            "                                    --tagstatcombine tag1ANDtag2:My_name\n",
            "    --tagdoc pattern:doc *  Add documentation to tags matching the given\n",
            "                          pattern. Documentation is shown in `Test Details` and\n",
            "                          also as a tooltip in `Statistics by Tag`. Pattern can\n",
            "                          use `*`, `?` and `[]` as wildcards like --test.\n",
            "                          Documentation can contain formatting like --doc.\n",
            "                          Examples: --tagdoc mytag:Example\n",
            "                                    --tagdoc \"owner-*:Original author\"\n",
            "    --tagstatlink pattern:link:title *  Add external links into `Statistics by\n",
            "                          Tag`. Pattern can use `*`, `?` and `[]` as wildcards\n",
            "                          like --test. Characters matching to `*` and `?`\n",
            "                          wildcards can be used in link and title with syntax\n",
            "                          %N, where N is index of the match (starting from 1).\n",
            "                          Examples: --tagstatlink mytag:http://my.domain:Title\n",
            "                          --tagstatlink \"bug-*:http://url/id=%1:Issue Tracker\"\n",
            "    --expandkeywords name:<pattern>|tag:<pattern> *\n",
            "                          Matching keywords will be automatically expanded in\n",
            "                          the log file. Matching against keyword name or tags\n",
            "                          work using same rules as with --removekeywords.\n",
            "                          Examples: --expandkeywords name:BuiltIn.Log\n",
            "                                    --expandkeywords tag:expand\n",
            "    --removekeywords all|passed|for|wuks|name:<pattern>|tag:<pattern> *\n",
            "                          Remove keyword data from the generated log file.\n",
            "                          Keywords containing warnings are not removed except\n",
            "                          in the `all` mode.\n",
            "                          all:     remove data from all keywords\n",
            "                          passed:  remove data only from keywords in passed\n",
            "                                   test cases and suites\n",
            "                          for:     remove passed iterations from for loops\n",
            "                          while:   remove passed iterations from while loops\n",
            "                          wuks:    remove all but the last failing keyword\n",
            "                                   inside `BuiltIn.Wait Until Keyword Succeeds`\n",
            "                          name:<pattern>:  remove data from keywords that match\n",
            "                                   the given pattern. The pattern is matched\n",
            "                                   against the full name of the keyword (e.g.\n",
            "                                   'MyLib.Keyword', 'resource.Second Keyword'),\n",
            "                                   is case, space, and underscore insensitive,\n",
            "                                   and may contain `*`, `?` and `[]` wildcards.\n",
            "                                   Examples: --removekeywords name:Lib.HugeKw\n",
            "                                             --removekeywords name:myresource.*\n",
            "                          tag:<pattern>:  remove data from keywords that match\n",
            "                                   the given pattern. Tags are case and space\n",
            "                                   insensitive and patterns can contain `*`,\n",
            "                                   `?` and `[]` wildcards. Tags and patterns\n",
            "                                   can also be combined together with `AND`,\n",
            "                                   `OR`, and `NOT` operators.\n",
            "                                   Examples: --removekeywords foo\n",
            "                                             --removekeywords fooANDbar*\n",
            "    --flattenkeywords for|while|iteration|name:<pattern>|tag:<pattern> *\n",
            "                          Flattens matching keywords in the generated log file.\n",
            "                          Matching keywords get all log messages from their\n",
            "                          child keywords and children are discarded otherwise.\n",
            "                          for:     flatten FOR loops fully\n",
            "                          while:   flatten WHILE loops fully\n",
            "                          iteration: flatten FOR/WHILE loop iterations\n",
            "                          foritem: deprecated alias for `iteration`\n",
            "                          name:<pattern>:  flatten matched keywords using same\n",
            "                                   matching rules as with\n",
            "                                   `--removekeywords name:<pattern>`\n",
            "                          tag:<pattern>:  flatten matched keywords using same\n",
            "                                   matching rules as with\n",
            "                                   `--removekeywords tag:<pattern>`\n",
            "    --listener class *    A class for monitoring test execution. Gets\n",
            "                          notifications e.g. when tests start and end.\n",
            "                          Arguments to the listener class can be given after\n",
            "                          the name using a colon or a semicolon as a separator.\n",
            "                          Examples: --listener MyListenerClass\n",
            "                                    --listener path/to/Listener.py:arg1:arg2\n",
            "    --nostatusrc          Sets the return code to zero regardless of failures\n",
            "                          in test cases. Error codes are returned normally.\n",
            "    --dryrun              Verifies test data and runs tests so that library\n",
            "                          keywords are not executed.\n",
            " -X --exitonfailure       Stops test execution if any test fails.\n",
            "    --exitonerror         Stops test execution if any error occurs when parsing\n",
            "                          test data, importing libraries, and so on.\n",
            "    --skipteardownonexit  Causes teardowns to be skipped if test execution is\n",
            "                          stopped prematurely.\n",
            "    --randomize all|suites|tests|none  Randomizes the test execution order.\n",
            "                          all:    randomizes both suites and tests\n",
            "                          suites: randomizes suites\n",
            "                          tests:  randomizes tests\n",
            "                          none:   no randomization (default)\n",
            "                          Use syntax `VALUE:SEED` to give a custom random seed.\n",
            "                          The seed must be an integer.\n",
            "                          Examples: --randomize all\n",
            "                                    --randomize tests:1234\n",
            "    --prerunmodifier class *  Class to programmatically modify the suite\n",
            "                          structure before execution.\n",
            "    --prerebotmodifier class *  Class to programmatically modify the result\n",
            "                          model before creating reports and logs.\n",
            "    --console type        How to report execution on the console.\n",
            "                          verbose:  report every suite and test (default)\n",
            "                          dotted:   only show `.` for passed test, `s` for\n",
            "                                    skipped tests, and `F` for failed tests\n",
            "                          quiet:    no output except for errors and warnings\n",
            "                          none:     no output whatsoever\n",
            " -. --dotted              Shortcut for `--console dotted`.\n",
            "    --quiet               Shortcut for `--console quiet`.\n",
            " -W --consolewidth chars  Width of the console output. Default is 78.\n",
            " -C --consolecolors auto|on|ansi|off  Use colors on console output or not.\n",
            "                          auto: use colors when output not redirected (default)\n",
            "                          on:   always use colors\n",
            "                          ansi: like `on` but use ANSI colors also on Windows\n",
            "                          off:  disable colors altogether\n",
            " -K --consolemarkers auto|on|off  Show markers on the console when top level\n",
            "                          keywords in a test case end. Values have same\n",
            "                          semantics as with --consolecolors.\n",
            " -P --pythonpath path *   Additional locations (directories, ZIPs) where to\n",
            "                          search libraries and other extensions when they are\n",
            "                          imported. Multiple paths can be given by separating\n",
            "                          them with a colon (`:`) or by using this option\n",
            "                          several times. Given path can also be a glob pattern\n",
            "                          matching multiple paths.\n",
            "                          Examples: --pythonpath libs/\n",
            "                                    --pythonpath /opt/libs:libraries.zip\n",
            " -A --argumentfile path *  Text file to read more arguments from. Use special\n",
            "                          path `STDIN` to read contents from the standard input\n",
            "                          stream. File can have both options and input files\n",
            "                          or directories, one per line. Contents do not need to\n",
            "                          be escaped but spaces in the beginning and end of\n",
            "                          lines are removed. Empty lines and lines starting\n",
            "                          with a hash character (#) are ignored.\n",
            "                          Example file:\n",
            "                          |  --include regression\n",
            "                          |  --name Regression Tests\n",
            "                          |  # This is a comment line\n",
            "                          |  tests.robot\n",
            "                          |  path/to/test/directory/\n",
            "                          Examples:\n",
            "                          --argumentfile argfile.txt --argumentfile STDIN\n",
            " -h -? --help             Print usage instructions.\n",
            " --version                Print version information.\n",
            "\n",
            "Options that are marked with an asterisk (*) can be specified multiple times.\n",
            "For example, `--test first --test third` selects test cases with name `first`\n",
            "and `third`. If an option accepts a value but is not marked with an asterisk,\n",
            "the last given value has precedence. For example, `--log A.html --log B.html`\n",
            "creates log file `B.html`. Options accepting no values can be disabled by\n",
            "using the same option again with `no` prefix added or dropped. The last option\n",
            "has precedence regardless of how many times options are used. For example,\n",
            "`--dryrun --dryrun --nodryrun --nostatusrc --statusrc` would not activate the\n",
            "dry-run mode and would return a normal return code.\n",
            "\n",
            "Long option format is case-insensitive. For example, --SuiteStatLevel is\n",
            "equivalent to but easier to read than --suitestatlevel. Long options can\n",
            "also be shortened as long as they are unique. For example, `--logti Title`\n",
            "works while `--lo log.html` does not because the former matches only --logtitle\n",
            "but the latter matches --log, --loglevel and --logtitle.\n",
            "\n",
            "Environment Variables\n",
            "=====================\n",
            "\n",
            "ROBOT_OPTIONS             Space separated list of default options to be placed\n",
            "                          in front of any explicit options on the command line.\n",
            "ROBOT_SYSLOG_FILE         Path to a file where Robot Framework writes internal\n",
            "                          information about parsing test case files and running\n",
            "                          tests. Can be useful when debugging problems. If not\n",
            "                          set, or set to a special value `NONE`, writing to the\n",
            "                          syslog file is disabled.\n",
            "ROBOT_SYSLOG_LEVEL        Log level to use when writing to the syslog file.\n",
            "                          Available levels are the same as with --loglevel\n",
            "                          command line option and the default is INFO.\n",
            "ROBOT_INTERNAL_TRACES     When set to any non-empty value, Robot Framework's\n",
            "                          internal methods are included in error tracebacks.\n",
            "\n",
            "Examples\n",
            "========\n",
            "\n",
            "# Simple test run using `robot` command without options.\n",
            "$ robot tests.robot\n",
            "\n",
            "# Using options.\n",
            "$ robot --include smoke --name \"Smoke Tests\" path/to/tests.robot\n",
            "\n",
            "# Executing `robot` module using Python.\n",
            "$ python -m robot path/to/tests\n",
            "\n",
            "# Executing multiple test case files and using case-insensitive long options.\n",
            "$ robot --SuiteStatLevel 2 --Metadata Version:3 tests/*.robot more/tests.robot\n",
            "\n",
            "# Setting default options and syslog file before running tests.\n",
            "$ export ROBOT_OPTIONS=\"--outputdir results --suitestatlevel 2\"\n",
            "$ export ROBOT_SYSLOG_FILE=/tmp/syslog.txt\n",
            "$ robot tests.robot\n",
            "\n"
          ]
        }
      ]
    },
    {
      "cell_type": "markdown",
      "source": [
        "**Installing Streamlit for web app**"
      ],
      "metadata": {
        "id": "gH_bjZWo46TU"
      }
    },
    {
      "cell_type": "code",
      "source": [
        "pip install streamlit"
      ],
      "metadata": {
        "colab": {
          "base_uri": "https://localhost:8080/"
        },
        "id": "nLWSuyzjY1O4",
        "outputId": "a87c2a85-522a-496a-d9b9-cada9dca9899"
      },
      "execution_count": 13,
      "outputs": [
        {
          "output_type": "stream",
          "name": "stdout",
          "text": [
            "Looking in indexes: https://pypi.org/simple, https://us-python.pkg.dev/colab-wheels/public/simple/\n",
            "Requirement already satisfied: streamlit in /usr/local/lib/python3.8/dist-packages (1.15.2)\n",
            "Requirement already satisfied: pympler>=0.9 in /usr/local/lib/python3.8/dist-packages (from streamlit) (1.0.1)\n",
            "Requirement already satisfied: altair>=3.2.0 in /usr/local/lib/python3.8/dist-packages (from streamlit) (4.2.0)\n",
            "Requirement already satisfied: protobuf<4,>=3.12 in /usr/local/lib/python3.8/dist-packages (from streamlit) (3.19.6)\n",
            "Requirement already satisfied: importlib-metadata>=1.4 in /usr/local/lib/python3.8/dist-packages (from streamlit) (4.13.0)\n",
            "Requirement already satisfied: typing-extensions>=3.10.0.0 in /usr/local/lib/python3.8/dist-packages (from streamlit) (4.4.0)\n",
            "Requirement already satisfied: gitpython!=3.1.19 in /usr/local/lib/python3.8/dist-packages (from streamlit) (3.1.29)\n",
            "Requirement already satisfied: python-dateutil in /usr/local/lib/python3.8/dist-packages (from streamlit) (2.8.2)\n",
            "Requirement already satisfied: numpy in /usr/local/lib/python3.8/dist-packages (from streamlit) (1.21.6)\n",
            "Requirement already satisfied: toml in /usr/local/lib/python3.8/dist-packages (from streamlit) (0.10.2)\n",
            "Requirement already satisfied: pandas>=0.21.0 in /usr/local/lib/python3.8/dist-packages (from streamlit) (1.3.5)\n",
            "Requirement already satisfied: pydeck>=0.1.dev5 in /usr/local/lib/python3.8/dist-packages (from streamlit) (0.8.0)\n",
            "Requirement already satisfied: blinker>=1.0.0 in /usr/local/lib/python3.8/dist-packages (from streamlit) (1.5)\n",
            "Requirement already satisfied: validators>=0.2 in /usr/local/lib/python3.8/dist-packages (from streamlit) (0.20.0)\n",
            "Requirement already satisfied: rich>=10.11.0 in /usr/local/lib/python3.8/dist-packages (from streamlit) (12.6.0)\n",
            "Requirement already satisfied: click>=7.0 in /usr/local/lib/python3.8/dist-packages (from streamlit) (7.1.2)\n",
            "Requirement already satisfied: pyarrow>=4.0 in /usr/local/lib/python3.8/dist-packages (from streamlit) (9.0.0)\n",
            "Requirement already satisfied: watchdog in /usr/local/lib/python3.8/dist-packages (from streamlit) (2.2.0)\n",
            "Requirement already satisfied: cachetools>=4.0 in /usr/local/lib/python3.8/dist-packages (from streamlit) (5.2.0)\n",
            "Requirement already satisfied: semver in /usr/local/lib/python3.8/dist-packages (from streamlit) (2.13.0)\n",
            "Requirement already satisfied: requests>=2.4 in /usr/local/lib/python3.8/dist-packages (from streamlit) (2.23.0)\n",
            "Requirement already satisfied: tornado>=5.0 in /usr/local/lib/python3.8/dist-packages (from streamlit) (6.0.4)\n",
            "Requirement already satisfied: pillow>=6.2.0 in /usr/local/lib/python3.8/dist-packages (from streamlit) (7.1.2)\n",
            "Requirement already satisfied: tzlocal>=1.1 in /usr/local/lib/python3.8/dist-packages (from streamlit) (1.5.1)\n",
            "Requirement already satisfied: packaging>=14.1 in /usr/local/lib/python3.8/dist-packages (from streamlit) (21.3)\n",
            "Requirement already satisfied: entrypoints in /usr/local/lib/python3.8/dist-packages (from altair>=3.2.0->streamlit) (0.4)\n",
            "Requirement already satisfied: toolz in /usr/local/lib/python3.8/dist-packages (from altair>=3.2.0->streamlit) (0.12.0)\n",
            "Requirement already satisfied: jsonschema>=3.0 in /usr/local/lib/python3.8/dist-packages (from altair>=3.2.0->streamlit) (4.3.3)\n",
            "Requirement already satisfied: jinja2 in /usr/local/lib/python3.8/dist-packages (from altair>=3.2.0->streamlit) (2.11.3)\n",
            "Requirement already satisfied: gitdb<5,>=4.0.1 in /usr/local/lib/python3.8/dist-packages (from gitpython!=3.1.19->streamlit) (4.0.10)\n",
            "Requirement already satisfied: smmap<6,>=3.0.1 in /usr/local/lib/python3.8/dist-packages (from gitdb<5,>=4.0.1->gitpython!=3.1.19->streamlit) (5.0.0)\n",
            "Requirement already satisfied: zipp>=0.5 in /usr/local/lib/python3.8/dist-packages (from importlib-metadata>=1.4->streamlit) (3.11.0)\n",
            "Requirement already satisfied: attrs>=17.4.0 in /usr/local/lib/python3.8/dist-packages (from jsonschema>=3.0->altair>=3.2.0->streamlit) (22.1.0)\n",
            "Requirement already satisfied: pyrsistent!=0.17.0,!=0.17.1,!=0.17.2,>=0.14.0 in /usr/local/lib/python3.8/dist-packages (from jsonschema>=3.0->altair>=3.2.0->streamlit) (0.19.2)\n",
            "Requirement already satisfied: importlib-resources>=1.4.0 in /usr/local/lib/python3.8/dist-packages (from jsonschema>=3.0->altair>=3.2.0->streamlit) (5.10.0)\n",
            "Requirement already satisfied: pyparsing!=3.0.5,>=2.0.2 in /usr/local/lib/python3.8/dist-packages (from packaging>=14.1->streamlit) (3.0.9)\n",
            "Requirement already satisfied: pytz>=2017.3 in /usr/local/lib/python3.8/dist-packages (from pandas>=0.21.0->streamlit) (2022.6)\n",
            "Requirement already satisfied: MarkupSafe>=0.23 in /usr/local/lib/python3.8/dist-packages (from jinja2->altair>=3.2.0->streamlit) (2.0.1)\n",
            "Requirement already satisfied: six>=1.5 in /usr/local/lib/python3.8/dist-packages (from python-dateutil->streamlit) (1.15.0)\n",
            "Requirement already satisfied: chardet<4,>=3.0.2 in /usr/local/lib/python3.8/dist-packages (from requests>=2.4->streamlit) (3.0.4)\n",
            "Requirement already satisfied: urllib3!=1.25.0,!=1.25.1,<1.26,>=1.21.1 in /usr/local/lib/python3.8/dist-packages (from requests>=2.4->streamlit) (1.24.3)\n",
            "Requirement already satisfied: idna<3,>=2.5 in /usr/local/lib/python3.8/dist-packages (from requests>=2.4->streamlit) (2.10)\n",
            "Requirement already satisfied: certifi>=2017.4.17 in /usr/local/lib/python3.8/dist-packages (from requests>=2.4->streamlit) (2022.9.24)\n",
            "Requirement already satisfied: commonmark<0.10.0,>=0.9.0 in /usr/local/lib/python3.8/dist-packages (from rich>=10.11.0->streamlit) (0.9.1)\n",
            "Requirement already satisfied: pygments<3.0.0,>=2.6.0 in /usr/local/lib/python3.8/dist-packages (from rich>=10.11.0->streamlit) (2.6.1)\n",
            "Requirement already satisfied: decorator>=3.4.0 in /usr/local/lib/python3.8/dist-packages (from validators>=0.2->streamlit) (4.4.2)\n"
          ]
        }
      ]
    },
    {
      "cell_type": "code",
      "source": [
        "pip install --upgrade streamlit"
      ],
      "metadata": {
        "colab": {
          "base_uri": "https://localhost:8080/"
        },
        "id": "54yExn6A1xDw",
        "outputId": "b7694835-a5e2-406b-b8ca-22ad5bf99bc8"
      },
      "execution_count": 14,
      "outputs": [
        {
          "output_type": "stream",
          "name": "stdout",
          "text": [
            "Looking in indexes: https://pypi.org/simple, https://us-python.pkg.dev/colab-wheels/public/simple/\n",
            "Requirement already satisfied: streamlit in /usr/local/lib/python3.8/dist-packages (1.15.2)\n",
            "Requirement already satisfied: python-dateutil in /usr/local/lib/python3.8/dist-packages (from streamlit) (2.8.2)\n",
            "Requirement already satisfied: blinker>=1.0.0 in /usr/local/lib/python3.8/dist-packages (from streamlit) (1.5)\n",
            "Requirement already satisfied: altair>=3.2.0 in /usr/local/lib/python3.8/dist-packages (from streamlit) (4.2.0)\n",
            "Requirement already satisfied: pympler>=0.9 in /usr/local/lib/python3.8/dist-packages (from streamlit) (1.0.1)\n",
            "Requirement already satisfied: validators>=0.2 in /usr/local/lib/python3.8/dist-packages (from streamlit) (0.20.0)\n",
            "Requirement already satisfied: rich>=10.11.0 in /usr/local/lib/python3.8/dist-packages (from streamlit) (12.6.0)\n",
            "Requirement already satisfied: importlib-metadata>=1.4 in /usr/local/lib/python3.8/dist-packages (from streamlit) (4.13.0)\n",
            "Requirement already satisfied: typing-extensions>=3.10.0.0 in /usr/local/lib/python3.8/dist-packages (from streamlit) (4.4.0)\n",
            "Requirement already satisfied: numpy in /usr/local/lib/python3.8/dist-packages (from streamlit) (1.21.6)\n",
            "Requirement already satisfied: requests>=2.4 in /usr/local/lib/python3.8/dist-packages (from streamlit) (2.23.0)\n",
            "Requirement already satisfied: gitpython!=3.1.19 in /usr/local/lib/python3.8/dist-packages (from streamlit) (3.1.29)\n",
            "Requirement already satisfied: pandas>=0.21.0 in /usr/local/lib/python3.8/dist-packages (from streamlit) (1.3.5)\n",
            "Requirement already satisfied: protobuf<4,>=3.12 in /usr/local/lib/python3.8/dist-packages (from streamlit) (3.19.6)\n",
            "Requirement already satisfied: pillow>=6.2.0 in /usr/local/lib/python3.8/dist-packages (from streamlit) (7.1.2)\n",
            "Requirement already satisfied: toml in /usr/local/lib/python3.8/dist-packages (from streamlit) (0.10.2)\n",
            "Requirement already satisfied: tzlocal>=1.1 in /usr/local/lib/python3.8/dist-packages (from streamlit) (1.5.1)\n",
            "Requirement already satisfied: click>=7.0 in /usr/local/lib/python3.8/dist-packages (from streamlit) (7.1.2)\n",
            "Requirement already satisfied: semver in /usr/local/lib/python3.8/dist-packages (from streamlit) (2.13.0)\n",
            "Requirement already satisfied: packaging>=14.1 in /usr/local/lib/python3.8/dist-packages (from streamlit) (21.3)\n",
            "Requirement already satisfied: tornado>=5.0 in /usr/local/lib/python3.8/dist-packages (from streamlit) (6.0.4)\n",
            "Requirement already satisfied: cachetools>=4.0 in /usr/local/lib/python3.8/dist-packages (from streamlit) (5.2.0)\n",
            "Requirement already satisfied: pydeck>=0.1.dev5 in /usr/local/lib/python3.8/dist-packages (from streamlit) (0.8.0)\n",
            "Requirement already satisfied: watchdog in /usr/local/lib/python3.8/dist-packages (from streamlit) (2.2.0)\n",
            "Requirement already satisfied: pyarrow>=4.0 in /usr/local/lib/python3.8/dist-packages (from streamlit) (9.0.0)\n",
            "Requirement already satisfied: jsonschema>=3.0 in /usr/local/lib/python3.8/dist-packages (from altair>=3.2.0->streamlit) (4.3.3)\n",
            "Requirement already satisfied: jinja2 in /usr/local/lib/python3.8/dist-packages (from altair>=3.2.0->streamlit) (2.11.3)\n",
            "Requirement already satisfied: entrypoints in /usr/local/lib/python3.8/dist-packages (from altair>=3.2.0->streamlit) (0.4)\n",
            "Requirement already satisfied: toolz in /usr/local/lib/python3.8/dist-packages (from altair>=3.2.0->streamlit) (0.12.0)\n",
            "Requirement already satisfied: gitdb<5,>=4.0.1 in /usr/local/lib/python3.8/dist-packages (from gitpython!=3.1.19->streamlit) (4.0.10)\n",
            "Requirement already satisfied: smmap<6,>=3.0.1 in /usr/local/lib/python3.8/dist-packages (from gitdb<5,>=4.0.1->gitpython!=3.1.19->streamlit) (5.0.0)\n",
            "Requirement already satisfied: zipp>=0.5 in /usr/local/lib/python3.8/dist-packages (from importlib-metadata>=1.4->streamlit) (3.11.0)\n",
            "Requirement already satisfied: pyrsistent!=0.17.0,!=0.17.1,!=0.17.2,>=0.14.0 in /usr/local/lib/python3.8/dist-packages (from jsonschema>=3.0->altair>=3.2.0->streamlit) (0.19.2)\n",
            "Requirement already satisfied: attrs>=17.4.0 in /usr/local/lib/python3.8/dist-packages (from jsonschema>=3.0->altair>=3.2.0->streamlit) (22.1.0)\n",
            "Requirement already satisfied: importlib-resources>=1.4.0 in /usr/local/lib/python3.8/dist-packages (from jsonschema>=3.0->altair>=3.2.0->streamlit) (5.10.0)\n",
            "Requirement already satisfied: pyparsing!=3.0.5,>=2.0.2 in /usr/local/lib/python3.8/dist-packages (from packaging>=14.1->streamlit) (3.0.9)\n",
            "Requirement already satisfied: pytz>=2017.3 in /usr/local/lib/python3.8/dist-packages (from pandas>=0.21.0->streamlit) (2022.6)\n",
            "Requirement already satisfied: MarkupSafe>=0.23 in /usr/local/lib/python3.8/dist-packages (from jinja2->altair>=3.2.0->streamlit) (2.0.1)\n",
            "Requirement already satisfied: six>=1.5 in /usr/local/lib/python3.8/dist-packages (from python-dateutil->streamlit) (1.15.0)\n",
            "Requirement already satisfied: chardet<4,>=3.0.2 in /usr/local/lib/python3.8/dist-packages (from requests>=2.4->streamlit) (3.0.4)\n",
            "Requirement already satisfied: urllib3!=1.25.0,!=1.25.1,<1.26,>=1.21.1 in /usr/local/lib/python3.8/dist-packages (from requests>=2.4->streamlit) (1.24.3)\n",
            "Requirement already satisfied: idna<3,>=2.5 in /usr/local/lib/python3.8/dist-packages (from requests>=2.4->streamlit) (2.10)\n",
            "Requirement already satisfied: certifi>=2017.4.17 in /usr/local/lib/python3.8/dist-packages (from requests>=2.4->streamlit) (2022.9.24)\n",
            "Requirement already satisfied: pygments<3.0.0,>=2.6.0 in /usr/local/lib/python3.8/dist-packages (from rich>=10.11.0->streamlit) (2.6.1)\n",
            "Requirement already satisfied: commonmark<0.10.0,>=0.9.0 in /usr/local/lib/python3.8/dist-packages (from rich>=10.11.0->streamlit) (0.9.1)\n",
            "Requirement already satisfied: decorator>=3.4.0 in /usr/local/lib/python3.8/dist-packages (from validators>=0.2->streamlit) (4.4.2)\n"
          ]
        }
      ]
    },
    {
      "cell_type": "markdown",
      "source": [
        "**Mounting Google Drive to Access the dataset**"
      ],
      "metadata": {
        "id": "hGaRgeuh5IeV"
      }
    },
    {
      "cell_type": "code",
      "source": [
        "from google.colab import drive\n",
        "drive.mount('/content/drive')"
      ],
      "metadata": {
        "colab": {
          "base_uri": "https://localhost:8080/"
        },
        "id": "Gnx_aMC0Lt0z",
        "outputId": "67ac2fea-16eb-43ec-c6b5-523eb8d4d1cb"
      },
      "execution_count": 15,
      "outputs": [
        {
          "output_type": "stream",
          "name": "stdout",
          "text": [
            "Drive already mounted at /content/drive; to attempt to forcibly remount, call drive.mount(\"/content/drive\", force_remount=True).\n"
          ]
        }
      ]
    },
    {
      "cell_type": "markdown",
      "source": [
        "**Installing pyngrok to run web application from colab**"
      ],
      "metadata": {
        "id": "AHj69S2o5WOa"
      }
    },
    {
      "cell_type": "code",
      "source": [
        "pip install pyngrok"
      ],
      "metadata": {
        "colab": {
          "base_uri": "https://localhost:8080/"
        },
        "id": "jgrULpxbe-zl",
        "outputId": "b99c60eb-5840-4d3c-9935-3481cdc08be4"
      },
      "execution_count": 16,
      "outputs": [
        {
          "output_type": "stream",
          "name": "stdout",
          "text": [
            "Looking in indexes: https://pypi.org/simple, https://us-python.pkg.dev/colab-wheels/public/simple/\n",
            "Collecting pyngrok\n",
            "  Downloading pyngrok-5.2.1.tar.gz (761 kB)\n",
            "\u001b[K     |████████████████████████████████| 761 kB 4.6 MB/s \n",
            "\u001b[?25hRequirement already satisfied: PyYAML in /usr/local/lib/python3.8/dist-packages (from pyngrok) (6.0)\n",
            "Building wheels for collected packages: pyngrok\n",
            "  Building wheel for pyngrok (setup.py) ... \u001b[?25l\u001b[?25hdone\n",
            "  Created wheel for pyngrok: filename=pyngrok-5.2.1-py3-none-any.whl size=19792 sha256=a9404a1d97235a05b433e8c81e070351f115bb182b498a3f588fe28963ee276b\n",
            "  Stored in directory: /root/.cache/pip/wheels/5d/f2/70/526da675d32f17577ec47ac4c663084efe39d47c826b6c3bb1\n",
            "Successfully built pyngrok\n",
            "Installing collected packages: pyngrok\n",
            "Successfully installed pyngrok-5.2.1\n"
          ]
        }
      ]
    },
    {
      "cell_type": "markdown",
      "source": [
        "**Using the authorization token from ngrok account**"
      ],
      "metadata": {
        "id": "UZSsGs5_5eUU"
      }
    },
    {
      "cell_type": "code",
      "source": [
        "from pyngrok import ngrok\n",
        "!ngrok authtoken 2HzT299FPnVroFdHbyvlPfjcLLn_2dHN6JAJDL7HMzCWAzBcc"
      ],
      "metadata": {
        "colab": {
          "base_uri": "https://localhost:8080/"
        },
        "id": "qhHp5N5kbCoR",
        "outputId": "b2bb0ad2-2bb3-4722-dd06-d66ab68a4d95"
      },
      "execution_count": 17,
      "outputs": [
        {
          "output_type": "stream",
          "name": "stdout",
          "text": [
            "Authtoken saved to configuration file: /root/.ngrok2/ngrok.yml\n"
          ]
        }
      ]
    },
    {
      "cell_type": "code",
      "source": [
        " \n",
        "public_url = ngrok.connect(port='8501')\n",
        "public_url\n"
      ],
      "metadata": {
        "colab": {
          "base_uri": "https://localhost:8080/"
        },
        "id": "30hyxPxPiMas",
        "outputId": "3d5e80b6-f075-4fa3-e16d-5f3993241bc2"
      },
      "execution_count": 18,
      "outputs": [
        {
          "output_type": "execute_result",
          "data": {
            "text/plain": [
              "<NgrokTunnel: \"http://82cc-35-192-124-48.ngrok.io\" -> \"http://localhost:80\">"
            ]
          },
          "metadata": {},
          "execution_count": 18
        }
      ]
    },
    {
      "cell_type": "markdown",
      "source": [
        "**Installing Data Cleaning Library**"
      ],
      "metadata": {
        "id": "1UKmHcww5nfe"
      }
    },
    {
      "cell_type": "code",
      "source": [
        "pip install text_hammer"
      ],
      "metadata": {
        "colab": {
          "base_uri": "https://localhost:8080/"
        },
        "id": "BXmin7cmMyIp",
        "outputId": "a716ebf0-ecf1-4df5-d9fa-1bbd2413a9a1"
      },
      "execution_count": 19,
      "outputs": [
        {
          "output_type": "stream",
          "name": "stdout",
          "text": [
            "Looking in indexes: https://pypi.org/simple, https://us-python.pkg.dev/colab-wheels/public/simple/\n",
            "Collecting text_hammer\n",
            "  Downloading text_hammer-0.1.5-py3-none-any.whl (7.6 kB)\n",
            "Requirement already satisfied: pandas in /usr/local/lib/python3.8/dist-packages (from text_hammer) (1.3.5)\n",
            "Requirement already satisfied: TextBlob in /usr/local/lib/python3.8/dist-packages (from text_hammer) (0.15.3)\n",
            "Requirement already satisfied: spacy in /usr/local/lib/python3.8/dist-packages (from text_hammer) (3.4.3)\n",
            "Collecting beautifulsoup4==4.9.1\n",
            "  Downloading beautifulsoup4-4.9.1-py3-none-any.whl (115 kB)\n",
            "\u001b[K     |████████████████████████████████| 115 kB 4.4 MB/s \n",
            "\u001b[?25hRequirement already satisfied: numpy in /usr/local/lib/python3.8/dist-packages (from text_hammer) (1.21.6)\n",
            "Collecting soupsieve>1.2\n",
            "  Downloading soupsieve-2.3.2.post1-py3-none-any.whl (37 kB)\n",
            "Requirement already satisfied: pytz>=2017.3 in /usr/local/lib/python3.8/dist-packages (from pandas->text_hammer) (2022.6)\n",
            "Requirement already satisfied: python-dateutil>=2.7.3 in /usr/local/lib/python3.8/dist-packages (from pandas->text_hammer) (2.8.2)\n",
            "Requirement already satisfied: six>=1.5 in /usr/local/lib/python3.8/dist-packages (from python-dateutil>=2.7.3->pandas->text_hammer) (1.15.0)\n",
            "Requirement already satisfied: pydantic!=1.8,!=1.8.1,<1.11.0,>=1.7.4 in /usr/local/lib/python3.8/dist-packages (from spacy->text_hammer) (1.10.2)\n",
            "Requirement already satisfied: langcodes<4.0.0,>=3.2.0 in /usr/local/lib/python3.8/dist-packages (from spacy->text_hammer) (3.3.0)\n",
            "Requirement already satisfied: typer<0.8.0,>=0.3.0 in /usr/local/lib/python3.8/dist-packages (from spacy->text_hammer) (0.7.0)\n",
            "Requirement already satisfied: catalogue<2.1.0,>=2.0.6 in /usr/local/lib/python3.8/dist-packages (from spacy->text_hammer) (2.0.8)\n",
            "Requirement already satisfied: jinja2 in /usr/local/lib/python3.8/dist-packages (from spacy->text_hammer) (2.11.3)\n",
            "Requirement already satisfied: spacy-loggers<2.0.0,>=1.0.0 in /usr/local/lib/python3.8/dist-packages (from spacy->text_hammer) (1.0.3)\n",
            "Requirement already satisfied: cymem<2.1.0,>=2.0.2 in /usr/local/lib/python3.8/dist-packages (from spacy->text_hammer) (2.0.7)\n",
            "Requirement already satisfied: thinc<8.2.0,>=8.1.0 in /usr/local/lib/python3.8/dist-packages (from spacy->text_hammer) (8.1.5)\n",
            "Requirement already satisfied: murmurhash<1.1.0,>=0.28.0 in /usr/local/lib/python3.8/dist-packages (from spacy->text_hammer) (1.0.9)\n",
            "Requirement already satisfied: setuptools in /usr/local/lib/python3.8/dist-packages (from spacy->text_hammer) (57.4.0)\n",
            "Requirement already satisfied: pathy>=0.3.5 in /usr/local/lib/python3.8/dist-packages (from spacy->text_hammer) (0.10.0)\n",
            "Requirement already satisfied: preshed<3.1.0,>=3.0.2 in /usr/local/lib/python3.8/dist-packages (from spacy->text_hammer) (3.0.8)\n",
            "Requirement already satisfied: tqdm<5.0.0,>=4.38.0 in /usr/local/lib/python3.8/dist-packages (from spacy->text_hammer) (4.64.1)\n",
            "Requirement already satisfied: requests<3.0.0,>=2.13.0 in /usr/local/lib/python3.8/dist-packages (from spacy->text_hammer) (2.23.0)\n",
            "Requirement already satisfied: packaging>=20.0 in /usr/local/lib/python3.8/dist-packages (from spacy->text_hammer) (21.3)\n",
            "Requirement already satisfied: wasabi<1.1.0,>=0.9.1 in /usr/local/lib/python3.8/dist-packages (from spacy->text_hammer) (0.10.1)\n",
            "Requirement already satisfied: srsly<3.0.0,>=2.4.3 in /usr/local/lib/python3.8/dist-packages (from spacy->text_hammer) (2.4.5)\n",
            "Requirement already satisfied: spacy-legacy<3.1.0,>=3.0.10 in /usr/local/lib/python3.8/dist-packages (from spacy->text_hammer) (3.0.10)\n",
            "Requirement already satisfied: pyparsing!=3.0.5,>=2.0.2 in /usr/local/lib/python3.8/dist-packages (from packaging>=20.0->spacy->text_hammer) (3.0.9)\n",
            "Requirement already satisfied: smart-open<6.0.0,>=5.2.1 in /usr/local/lib/python3.8/dist-packages (from pathy>=0.3.5->spacy->text_hammer) (5.2.1)\n",
            "Requirement already satisfied: typing-extensions>=4.1.0 in /usr/local/lib/python3.8/dist-packages (from pydantic!=1.8,!=1.8.1,<1.11.0,>=1.7.4->spacy->text_hammer) (4.4.0)\n",
            "Requirement already satisfied: urllib3!=1.25.0,!=1.25.1,<1.26,>=1.21.1 in /usr/local/lib/python3.8/dist-packages (from requests<3.0.0,>=2.13.0->spacy->text_hammer) (1.24.3)\n",
            "Requirement already satisfied: certifi>=2017.4.17 in /usr/local/lib/python3.8/dist-packages (from requests<3.0.0,>=2.13.0->spacy->text_hammer) (2022.9.24)\n",
            "Requirement already satisfied: idna<3,>=2.5 in /usr/local/lib/python3.8/dist-packages (from requests<3.0.0,>=2.13.0->spacy->text_hammer) (2.10)\n",
            "Requirement already satisfied: chardet<4,>=3.0.2 in /usr/local/lib/python3.8/dist-packages (from requests<3.0.0,>=2.13.0->spacy->text_hammer) (3.0.4)\n",
            "Requirement already satisfied: confection<1.0.0,>=0.0.1 in /usr/local/lib/python3.8/dist-packages (from thinc<8.2.0,>=8.1.0->spacy->text_hammer) (0.0.3)\n",
            "Requirement already satisfied: blis<0.8.0,>=0.7.8 in /usr/local/lib/python3.8/dist-packages (from thinc<8.2.0,>=8.1.0->spacy->text_hammer) (0.7.9)\n",
            "Requirement already satisfied: click<9.0.0,>=7.1.1 in /usr/local/lib/python3.8/dist-packages (from typer<0.8.0,>=0.3.0->spacy->text_hammer) (7.1.2)\n",
            "Requirement already satisfied: MarkupSafe>=0.23 in /usr/local/lib/python3.8/dist-packages (from jinja2->spacy->text_hammer) (2.0.1)\n",
            "Requirement already satisfied: nltk>=3.1 in /usr/local/lib/python3.8/dist-packages (from TextBlob->text_hammer) (3.7)\n",
            "Requirement already satisfied: joblib in /usr/local/lib/python3.8/dist-packages (from nltk>=3.1->TextBlob->text_hammer) (1.2.0)\n",
            "Requirement already satisfied: regex>=2021.8.3 in /usr/local/lib/python3.8/dist-packages (from nltk>=3.1->TextBlob->text_hammer) (2022.6.2)\n",
            "Installing collected packages: soupsieve, beautifulsoup4, text-hammer\n",
            "  Attempting uninstall: beautifulsoup4\n",
            "    Found existing installation: beautifulsoup4 4.6.3\n",
            "    Uninstalling beautifulsoup4-4.6.3:\n",
            "      Successfully uninstalled beautifulsoup4-4.6.3\n",
            "Successfully installed beautifulsoup4-4.9.1 soupsieve-2.3.2.post1 text-hammer-0.1.5\n"
          ]
        }
      ]
    },
    {
      "cell_type": "code",
      "source": [
        "!pip install spacy\n",
        "!python -m spacy download en_core_web_sm\n",
        "!pip install beautifulsoup4\n",
        "!pip install textblob"
      ],
      "metadata": {
        "colab": {
          "base_uri": "https://localhost:8080/"
        },
        "id": "cMq_jOZvdNtK",
        "outputId": "92891353-58b1-4200-951f-e81bb8b2fcf8"
      },
      "execution_count": 20,
      "outputs": [
        {
          "output_type": "stream",
          "name": "stdout",
          "text": [
            "Looking in indexes: https://pypi.org/simple, https://us-python.pkg.dev/colab-wheels/public/simple/\n",
            "Requirement already satisfied: spacy in /usr/local/lib/python3.8/dist-packages (3.4.3)\n",
            "Requirement already satisfied: jinja2 in /usr/local/lib/python3.8/dist-packages (from spacy) (2.11.3)\n",
            "Requirement already satisfied: spacy-loggers<2.0.0,>=1.0.0 in /usr/local/lib/python3.8/dist-packages (from spacy) (1.0.3)\n",
            "Requirement already satisfied: typer<0.8.0,>=0.3.0 in /usr/local/lib/python3.8/dist-packages (from spacy) (0.7.0)\n",
            "Requirement already satisfied: setuptools in /usr/local/lib/python3.8/dist-packages (from spacy) (57.4.0)\n",
            "Requirement already satisfied: pathy>=0.3.5 in /usr/local/lib/python3.8/dist-packages (from spacy) (0.10.0)\n",
            "Requirement already satisfied: pydantic!=1.8,!=1.8.1,<1.11.0,>=1.7.4 in /usr/local/lib/python3.8/dist-packages (from spacy) (1.10.2)\n",
            "Requirement already satisfied: srsly<3.0.0,>=2.4.3 in /usr/local/lib/python3.8/dist-packages (from spacy) (2.4.5)\n",
            "Requirement already satisfied: murmurhash<1.1.0,>=0.28.0 in /usr/local/lib/python3.8/dist-packages (from spacy) (1.0.9)\n",
            "Requirement already satisfied: numpy>=1.15.0 in /usr/local/lib/python3.8/dist-packages (from spacy) (1.21.6)\n",
            "Requirement already satisfied: langcodes<4.0.0,>=3.2.0 in /usr/local/lib/python3.8/dist-packages (from spacy) (3.3.0)\n",
            "Requirement already satisfied: catalogue<2.1.0,>=2.0.6 in /usr/local/lib/python3.8/dist-packages (from spacy) (2.0.8)\n",
            "Requirement already satisfied: tqdm<5.0.0,>=4.38.0 in /usr/local/lib/python3.8/dist-packages (from spacy) (4.64.1)\n",
            "Requirement already satisfied: thinc<8.2.0,>=8.1.0 in /usr/local/lib/python3.8/dist-packages (from spacy) (8.1.5)\n",
            "Requirement already satisfied: packaging>=20.0 in /usr/local/lib/python3.8/dist-packages (from spacy) (21.3)\n",
            "Requirement already satisfied: requests<3.0.0,>=2.13.0 in /usr/local/lib/python3.8/dist-packages (from spacy) (2.23.0)\n",
            "Requirement already satisfied: preshed<3.1.0,>=3.0.2 in /usr/local/lib/python3.8/dist-packages (from spacy) (3.0.8)\n",
            "Requirement already satisfied: spacy-legacy<3.1.0,>=3.0.10 in /usr/local/lib/python3.8/dist-packages (from spacy) (3.0.10)\n",
            "Requirement already satisfied: cymem<2.1.0,>=2.0.2 in /usr/local/lib/python3.8/dist-packages (from spacy) (2.0.7)\n",
            "Requirement already satisfied: wasabi<1.1.0,>=0.9.1 in /usr/local/lib/python3.8/dist-packages (from spacy) (0.10.1)\n",
            "Requirement already satisfied: pyparsing!=3.0.5,>=2.0.2 in /usr/local/lib/python3.8/dist-packages (from packaging>=20.0->spacy) (3.0.9)\n",
            "Requirement already satisfied: smart-open<6.0.0,>=5.2.1 in /usr/local/lib/python3.8/dist-packages (from pathy>=0.3.5->spacy) (5.2.1)\n",
            "Requirement already satisfied: typing-extensions>=4.1.0 in /usr/local/lib/python3.8/dist-packages (from pydantic!=1.8,!=1.8.1,<1.11.0,>=1.7.4->spacy) (4.4.0)\n",
            "Requirement already satisfied: urllib3!=1.25.0,!=1.25.1,<1.26,>=1.21.1 in /usr/local/lib/python3.8/dist-packages (from requests<3.0.0,>=2.13.0->spacy) (1.24.3)\n",
            "Requirement already satisfied: idna<3,>=2.5 in /usr/local/lib/python3.8/dist-packages (from requests<3.0.0,>=2.13.0->spacy) (2.10)\n",
            "Requirement already satisfied: certifi>=2017.4.17 in /usr/local/lib/python3.8/dist-packages (from requests<3.0.0,>=2.13.0->spacy) (2022.9.24)\n",
            "Requirement already satisfied: chardet<4,>=3.0.2 in /usr/local/lib/python3.8/dist-packages (from requests<3.0.0,>=2.13.0->spacy) (3.0.4)\n",
            "Requirement already satisfied: blis<0.8.0,>=0.7.8 in /usr/local/lib/python3.8/dist-packages (from thinc<8.2.0,>=8.1.0->spacy) (0.7.9)\n",
            "Requirement already satisfied: confection<1.0.0,>=0.0.1 in /usr/local/lib/python3.8/dist-packages (from thinc<8.2.0,>=8.1.0->spacy) (0.0.3)\n",
            "Requirement already satisfied: click<9.0.0,>=7.1.1 in /usr/local/lib/python3.8/dist-packages (from typer<0.8.0,>=0.3.0->spacy) (7.1.2)\n",
            "Requirement already satisfied: MarkupSafe>=0.23 in /usr/local/lib/python3.8/dist-packages (from jinja2->spacy) (2.0.1)\n",
            "2022-12-11 20:47:48.415692: I tensorflow/core/util/util.cc:169] oneDNN custom operations are on. You may see slightly different numerical results due to floating-point round-off errors from different computation orders. To turn them off, set the environment variable `TF_ENABLE_ONEDNN_OPTS=0`.\n",
            "Looking in indexes: https://pypi.org/simple, https://us-python.pkg.dev/colab-wheels/public/simple/\n",
            "Collecting en-core-web-sm==3.4.1\n",
            "  Downloading https://github.com/explosion/spacy-models/releases/download/en_core_web_sm-3.4.1/en_core_web_sm-3.4.1-py3-none-any.whl (12.8 MB)\n",
            "\u001b[K     |████████████████████████████████| 12.8 MB 4.8 MB/s \n",
            "\u001b[?25hRequirement already satisfied: spacy<3.5.0,>=3.4.0 in /usr/local/lib/python3.8/dist-packages (from en-core-web-sm==3.4.1) (3.4.3)\n",
            "Requirement already satisfied: wasabi<1.1.0,>=0.9.1 in /usr/local/lib/python3.8/dist-packages (from spacy<3.5.0,>=3.4.0->en-core-web-sm==3.4.1) (0.10.1)\n",
            "Requirement already satisfied: pydantic!=1.8,!=1.8.1,<1.11.0,>=1.7.4 in /usr/local/lib/python3.8/dist-packages (from spacy<3.5.0,>=3.4.0->en-core-web-sm==3.4.1) (1.10.2)\n",
            "Requirement already satisfied: typer<0.8.0,>=0.3.0 in /usr/local/lib/python3.8/dist-packages (from spacy<3.5.0,>=3.4.0->en-core-web-sm==3.4.1) (0.7.0)\n",
            "Requirement already satisfied: setuptools in /usr/local/lib/python3.8/dist-packages (from spacy<3.5.0,>=3.4.0->en-core-web-sm==3.4.1) (57.4.0)\n",
            "Requirement already satisfied: spacy-legacy<3.1.0,>=3.0.10 in /usr/local/lib/python3.8/dist-packages (from spacy<3.5.0,>=3.4.0->en-core-web-sm==3.4.1) (3.0.10)\n",
            "Requirement already satisfied: murmurhash<1.1.0,>=0.28.0 in /usr/local/lib/python3.8/dist-packages (from spacy<3.5.0,>=3.4.0->en-core-web-sm==3.4.1) (1.0.9)\n",
            "Requirement already satisfied: srsly<3.0.0,>=2.4.3 in /usr/local/lib/python3.8/dist-packages (from spacy<3.5.0,>=3.4.0->en-core-web-sm==3.4.1) (2.4.5)\n",
            "Requirement already satisfied: thinc<8.2.0,>=8.1.0 in /usr/local/lib/python3.8/dist-packages (from spacy<3.5.0,>=3.4.0->en-core-web-sm==3.4.1) (8.1.5)\n",
            "Requirement already satisfied: tqdm<5.0.0,>=4.38.0 in /usr/local/lib/python3.8/dist-packages (from spacy<3.5.0,>=3.4.0->en-core-web-sm==3.4.1) (4.64.1)\n",
            "Requirement already satisfied: numpy>=1.15.0 in /usr/local/lib/python3.8/dist-packages (from spacy<3.5.0,>=3.4.0->en-core-web-sm==3.4.1) (1.21.6)\n",
            "Requirement already satisfied: packaging>=20.0 in /usr/local/lib/python3.8/dist-packages (from spacy<3.5.0,>=3.4.0->en-core-web-sm==3.4.1) (21.3)\n",
            "Requirement already satisfied: preshed<3.1.0,>=3.0.2 in /usr/local/lib/python3.8/dist-packages (from spacy<3.5.0,>=3.4.0->en-core-web-sm==3.4.1) (3.0.8)\n",
            "Requirement already satisfied: spacy-loggers<2.0.0,>=1.0.0 in /usr/local/lib/python3.8/dist-packages (from spacy<3.5.0,>=3.4.0->en-core-web-sm==3.4.1) (1.0.3)\n",
            "Requirement already satisfied: jinja2 in /usr/local/lib/python3.8/dist-packages (from spacy<3.5.0,>=3.4.0->en-core-web-sm==3.4.1) (2.11.3)\n",
            "Requirement already satisfied: requests<3.0.0,>=2.13.0 in /usr/local/lib/python3.8/dist-packages (from spacy<3.5.0,>=3.4.0->en-core-web-sm==3.4.1) (2.23.0)\n",
            "Requirement already satisfied: pathy>=0.3.5 in /usr/local/lib/python3.8/dist-packages (from spacy<3.5.0,>=3.4.0->en-core-web-sm==3.4.1) (0.10.0)\n",
            "Requirement already satisfied: langcodes<4.0.0,>=3.2.0 in /usr/local/lib/python3.8/dist-packages (from spacy<3.5.0,>=3.4.0->en-core-web-sm==3.4.1) (3.3.0)\n",
            "Requirement already satisfied: cymem<2.1.0,>=2.0.2 in /usr/local/lib/python3.8/dist-packages (from spacy<3.5.0,>=3.4.0->en-core-web-sm==3.4.1) (2.0.7)\n",
            "Requirement already satisfied: catalogue<2.1.0,>=2.0.6 in /usr/local/lib/python3.8/dist-packages (from spacy<3.5.0,>=3.4.0->en-core-web-sm==3.4.1) (2.0.8)\n",
            "Requirement already satisfied: pyparsing!=3.0.5,>=2.0.2 in /usr/local/lib/python3.8/dist-packages (from packaging>=20.0->spacy<3.5.0,>=3.4.0->en-core-web-sm==3.4.1) (3.0.9)\n",
            "Requirement already satisfied: smart-open<6.0.0,>=5.2.1 in /usr/local/lib/python3.8/dist-packages (from pathy>=0.3.5->spacy<3.5.0,>=3.4.0->en-core-web-sm==3.4.1) (5.2.1)\n",
            "Requirement already satisfied: typing-extensions>=4.1.0 in /usr/local/lib/python3.8/dist-packages (from pydantic!=1.8,!=1.8.1,<1.11.0,>=1.7.4->spacy<3.5.0,>=3.4.0->en-core-web-sm==3.4.1) (4.4.0)\n",
            "Requirement already satisfied: chardet<4,>=3.0.2 in /usr/local/lib/python3.8/dist-packages (from requests<3.0.0,>=2.13.0->spacy<3.5.0,>=3.4.0->en-core-web-sm==3.4.1) (3.0.4)\n",
            "Requirement already satisfied: certifi>=2017.4.17 in /usr/local/lib/python3.8/dist-packages (from requests<3.0.0,>=2.13.0->spacy<3.5.0,>=3.4.0->en-core-web-sm==3.4.1) (2022.9.24)\n",
            "Requirement already satisfied: idna<3,>=2.5 in /usr/local/lib/python3.8/dist-packages (from requests<3.0.0,>=2.13.0->spacy<3.5.0,>=3.4.0->en-core-web-sm==3.4.1) (2.10)\n",
            "Requirement already satisfied: urllib3!=1.25.0,!=1.25.1,<1.26,>=1.21.1 in /usr/local/lib/python3.8/dist-packages (from requests<3.0.0,>=2.13.0->spacy<3.5.0,>=3.4.0->en-core-web-sm==3.4.1) (1.24.3)\n",
            "Requirement already satisfied: blis<0.8.0,>=0.7.8 in /usr/local/lib/python3.8/dist-packages (from thinc<8.2.0,>=8.1.0->spacy<3.5.0,>=3.4.0->en-core-web-sm==3.4.1) (0.7.9)\n",
            "Requirement already satisfied: confection<1.0.0,>=0.0.1 in /usr/local/lib/python3.8/dist-packages (from thinc<8.2.0,>=8.1.0->spacy<3.5.0,>=3.4.0->en-core-web-sm==3.4.1) (0.0.3)\n",
            "Requirement already satisfied: click<9.0.0,>=7.1.1 in /usr/local/lib/python3.8/dist-packages (from typer<0.8.0,>=0.3.0->spacy<3.5.0,>=3.4.0->en-core-web-sm==3.4.1) (7.1.2)\n",
            "Requirement already satisfied: MarkupSafe>=0.23 in /usr/local/lib/python3.8/dist-packages (from jinja2->spacy<3.5.0,>=3.4.0->en-core-web-sm==3.4.1) (2.0.1)\n",
            "\u001b[38;5;2m✔ Download and installation successful\u001b[0m\n",
            "You can now load the package via spacy.load('en_core_web_sm')\n",
            "Looking in indexes: https://pypi.org/simple, https://us-python.pkg.dev/colab-wheels/public/simple/\n",
            "Requirement already satisfied: beautifulsoup4 in /usr/local/lib/python3.8/dist-packages (4.9.1)\n",
            "Requirement already satisfied: soupsieve>1.2 in /usr/local/lib/python3.8/dist-packages (from beautifulsoup4) (2.3.2.post1)\n",
            "Looking in indexes: https://pypi.org/simple, https://us-python.pkg.dev/colab-wheels/public/simple/\n",
            "Requirement already satisfied: textblob in /usr/local/lib/python3.8/dist-packages (0.15.3)\n",
            "Requirement already satisfied: nltk>=3.1 in /usr/local/lib/python3.8/dist-packages (from textblob) (3.7)\n",
            "Requirement already satisfied: tqdm in /usr/local/lib/python3.8/dist-packages (from nltk>=3.1->textblob) (4.64.1)\n",
            "Requirement already satisfied: click in /usr/local/lib/python3.8/dist-packages (from nltk>=3.1->textblob) (7.1.2)\n",
            "Requirement already satisfied: regex>=2021.8.3 in /usr/local/lib/python3.8/dist-packages (from nltk>=3.1->textblob) (2022.6.2)\n",
            "Requirement already satisfied: joblib in /usr/local/lib/python3.8/dist-packages (from nltk>=3.1->textblob) (1.2.0)\n"
          ]
        }
      ]
    },
    {
      "cell_type": "code",
      "source": [
        "pip install transformers"
      ],
      "metadata": {
        "colab": {
          "base_uri": "https://localhost:8080/"
        },
        "id": "D2NK6_s8fNGA",
        "outputId": "f7b83f23-23ea-41cf-e4eb-52b8c59af4db"
      },
      "execution_count": 21,
      "outputs": [
        {
          "output_type": "stream",
          "name": "stdout",
          "text": [
            "Looking in indexes: https://pypi.org/simple, https://us-python.pkg.dev/colab-wheels/public/simple/\n",
            "Collecting transformers\n",
            "  Downloading transformers-4.25.1-py3-none-any.whl (5.8 MB)\n",
            "\u001b[K     |████████████████████████████████| 5.8 MB 4.6 MB/s \n",
            "\u001b[?25hCollecting huggingface-hub<1.0,>=0.10.0\n",
            "  Downloading huggingface_hub-0.11.1-py3-none-any.whl (182 kB)\n",
            "\u001b[K     |████████████████████████████████| 182 kB 92.8 MB/s \n",
            "\u001b[?25hRequirement already satisfied: packaging>=20.0 in /usr/local/lib/python3.8/dist-packages (from transformers) (21.3)\n",
            "Requirement already satisfied: regex!=2019.12.17 in /usr/local/lib/python3.8/dist-packages (from transformers) (2022.6.2)\n",
            "Requirement already satisfied: requests in /usr/local/lib/python3.8/dist-packages (from transformers) (2.23.0)\n",
            "Requirement already satisfied: tqdm>=4.27 in /usr/local/lib/python3.8/dist-packages (from transformers) (4.64.1)\n",
            "Requirement already satisfied: filelock in /usr/local/lib/python3.8/dist-packages (from transformers) (3.8.0)\n",
            "Requirement already satisfied: pyyaml>=5.1 in /usr/local/lib/python3.8/dist-packages (from transformers) (6.0)\n",
            "Collecting tokenizers!=0.11.3,<0.14,>=0.11.1\n",
            "  Downloading tokenizers-0.13.2-cp38-cp38-manylinux_2_17_x86_64.manylinux2014_x86_64.whl (7.6 MB)\n",
            "\u001b[K     |████████████████████████████████| 7.6 MB 91.4 MB/s \n",
            "\u001b[?25hRequirement already satisfied: numpy>=1.17 in /usr/local/lib/python3.8/dist-packages (from transformers) (1.21.6)\n",
            "Requirement already satisfied: typing-extensions>=3.7.4.3 in /usr/local/lib/python3.8/dist-packages (from huggingface-hub<1.0,>=0.10.0->transformers) (4.4.0)\n",
            "Requirement already satisfied: pyparsing!=3.0.5,>=2.0.2 in /usr/local/lib/python3.8/dist-packages (from packaging>=20.0->transformers) (3.0.9)\n",
            "Requirement already satisfied: idna<3,>=2.5 in /usr/local/lib/python3.8/dist-packages (from requests->transformers) (2.10)\n",
            "Requirement already satisfied: certifi>=2017.4.17 in /usr/local/lib/python3.8/dist-packages (from requests->transformers) (2022.9.24)\n",
            "Requirement already satisfied: chardet<4,>=3.0.2 in /usr/local/lib/python3.8/dist-packages (from requests->transformers) (3.0.4)\n",
            "Requirement already satisfied: urllib3!=1.25.0,!=1.25.1,<1.26,>=1.21.1 in /usr/local/lib/python3.8/dist-packages (from requests->transformers) (1.24.3)\n",
            "Installing collected packages: tokenizers, huggingface-hub, transformers\n",
            "Successfully installed huggingface-hub-0.11.1 tokenizers-0.13.2 transformers-4.25.1\n"
          ]
        }
      ]
    },
    {
      "cell_type": "code",
      "source": [
        "import nltk\n",
        "nltk.download('stopwords')"
      ],
      "metadata": {
        "colab": {
          "base_uri": "https://localhost:8080/"
        },
        "id": "TGCrMZ9oxC_q",
        "outputId": "595b9723-21d4-42c6-c860-4b2a5dac0fb1"
      },
      "execution_count": 22,
      "outputs": [
        {
          "output_type": "stream",
          "name": "stderr",
          "text": [
            "[nltk_data] Downloading package stopwords to /root/nltk_data...\n",
            "[nltk_data]   Unzipping corpora/stopwords.zip.\n"
          ]
        },
        {
          "output_type": "execute_result",
          "data": {
            "text/plain": [
              "True"
            ]
          },
          "metadata": {},
          "execution_count": 22
        }
      ]
    },
    {
      "cell_type": "markdown",
      "source": [
        "**Loading Data, Data Cleaning, and some Data Visualizations, Accuracy**\n",
        "\n",
        "\n",
        "\n"
      ],
      "metadata": {
        "id": "JE07vF5ptvKh"
      }
    },
    {
      "cell_type": "code",
      "source": [
        "%%writefile /content/Visualize_The_Data.py\n",
        "import streamlit as st \n",
        "import pandas as pd\n",
        "import text_hammer as th\n",
        "import re\n",
        "from wordcloud import STOPWORDS\n",
        "from nltk.corpus import stopwords\n",
        "from wordcloud import WordCloud\n",
        "import matplotlib.pyplot as plt\n",
        "import seaborn as sns\n",
        "import numpy as np\n",
        "from tensorflow.keras.layers import Input, Dense\n",
        "from transformers import AutoTokenizer,TFBertModel\n",
        "max_len = 36\n",
        "import tensorflow as tf\n",
        "from tensorflow.keras.optimizers import Adam\n",
        "from tensorflow.keras.losses import CategoricalCrossentropy,BinaryCrossentropy\n",
        "from tensorflow.keras.metrics import CategoricalAccuracy,BinaryAccuracy\n",
        "\n",
        "\n",
        "train_data = pd.read_csv('/content/drive/MyDrive/nlp-getting-started (2)/train.csv',usecols=['id','text','target'])\n",
        "test_data = pd.read_csv('/content/drive/MyDrive/nlp-getting-started (2)/test.csv',usecols=['id','text'])\n",
        "sample_data = pd.read_csv('/content/drive/MyDrive/nlp-getting-started (2)/sample_submission.csv')\n",
        "st.title(\"Natural Language Processinig with Disaster Tweets\")\n",
        "tab1, tab2, tab3, tab4, tab5, tab6, tab7  = st.tabs([\"Train Data\", \"Test Data\", \"Cleaned Data\", \"Data Visualizations - 1\",\"Data Visualizations - 2\",\"Data Visualizations -3\", \"Model Accuracy\"])\n",
        "\n",
        "with tab1:\n",
        "  st.dataframe(train_data)\n",
        "  st.markdown('**Number of Rows and Columns in Train Data:**')\n",
        "  train_data.shape\n",
        "with tab2:\n",
        "  st.dataframe(test_data)\n",
        "  st.markdown('**Number of Rows and Columns in Test Data:**')\n",
        "  test_data.shape\n",
        "with tab3:\n",
        "  #Converting to lower case and replacing _ with empty string\n",
        "  train_data['text'] = train_data['text'].apply(lambda x:str(x).lower().replace('_', ' '))\n",
        "  #Removing emails\n",
        "  train_data['text'] = train_data['text'].apply(lambda x: th.remove_emails(x))\n",
        "  #Removing HTML Tags\n",
        "  train_data['text']=train_data['text'].apply(lambda x: th.remove_html_tags(x))\n",
        "  #Removing Urls\n",
        "  train_data['text']=train_data['text'].apply(lambda x: th.remove_urls(x))\n",
        "  #Removing Special Characters\n",
        "  train_data['text'] = train_data['text'].apply(lambda x: th.remove_special_chars(x))\n",
        "  #Removing Accented Characters\n",
        "  train_data['text'] = train_data['text'].apply(lambda x: th.remove_accented_chars(x))\n",
        "  st.markdown('**Cleaned Data:**')\n",
        "  st.dataframe(train_data)\n",
        "with tab4:\n",
        "  stop_words = set(stopwords.words('english'))\n",
        "  train_data['text'] = train_data['text'].apply(lambda x: ' '.join([word for word in x.split() if word not in stop_words]))\n",
        "  #Disaster Tweets wordcloud \n",
        "  disaster_tweets = train_data[train_data.target == 1]\n",
        "  disaster_string = []\n",
        "  for t in disaster_tweets.text:\n",
        "    disaster_string.append(t)\n",
        "  disaster_string = pd.Series(disaster_string).str.cat(sep=' ')\n",
        "  wordcloud = WordCloud(width=1600, height=800,max_font_size=100, background_color='white').generate(disaster_string)\n",
        "  plt.figure(figsize=(12,10))\n",
        "  plt.imshow(wordcloud, interpolation=\"bilinear\")\n",
        "  plt.axis(\"off\")\n",
        "  st.set_option('deprecation.showPyplotGlobalUse', False)\n",
        "  st.markdown(\"**Disaster Tweets Word Cloud**\")\n",
        "  st.pyplot()\n",
        "  formal_tweets = train_data[train_data.target == 0]\n",
        "  formal_string = []\n",
        "  for t in formal_tweets.text:\n",
        "      formal_string.append(t)\n",
        "  formal_string = pd.Series(formal_string).str.cat(sep=' ')\n",
        "  wordcloud = WordCloud(width=1600, height=800,max_font_size=100, background_color='white').generate(formal_string)\n",
        "  plt.figure(figsize=(12,10))\n",
        "  plt.imshow(wordcloud, interpolation=\"bilinear\")\n",
        "  plt.axis(\"off\")\n",
        "  plt.show()\n",
        "  st.set_option('deprecation.showPyplotGlobalUse', False)\n",
        "  st.markdown(\"**Positive Tweets Word Cloud**\")\n",
        "  st.pyplot()\n",
        "with tab5:\n",
        "    fig, ax = plt.subplots(1, 2, figsize=(12, 4))\n",
        "    train_data[\"target\"].value_counts().plot(\n",
        "    kind=\"pie\", \n",
        "    explode=[0.05 for x in train_data[\"target\"].unique()], \n",
        "    autopct='%.2f%%',\n",
        "    ax=ax[0], \n",
        "    shadow=True)\n",
        "    ax[0].set_title(f\"Target Distribution Pie Chart\")\n",
        "    ax[0].set_ylabel('')\n",
        "    #seaborn.countplot() method is used to Show the counts of observations in each categorical bin using bars.\n",
        "    count = sns.countplot(x=\"target\", data=train_data, ax=ax[1])\n",
        "    for bar in count.patches:\n",
        "        count.annotate(format(bar.get_height()),\n",
        "            (bar.get_x() + bar.get_width() / 2,\n",
        "            bar.get_height()), ha='center', va='center',\n",
        "            size=11, xytext=(0, 5),\n",
        "            textcoords='offset points')\n",
        "    ax[1].set_title(f\"Target Distribution Bar Chart\")\n",
        "    plt.show()\n",
        "    st.markdown('**Positive and Disaster Tweets Distribution in Train Dataset**')\n",
        "    st.pyplot()\n",
        "    st.markdown('**Number of Characters in each Tweet (Train Data)**')\n",
        "    train_data[\"No. of Characters\"] = train_data[\"text\"].apply(lambda x: len(x))\n",
        "    st.dataframe(train_data.sort_values(by=\"No. of Characters\", ascending=False))\n",
        "    train_data[\"No. of Words\"] = train_data[\"text\"].apply(lambda x: len(str(x).split()))\n",
        "    st.markdown('**Number of Words in each Tweet (Train Data)**')\n",
        "    st.dataframe(train_data.sort_values(by=\"No. of Words\", ascending=False))\n",
        "with tab6:\n",
        "  fig,(ax1,ax2)=plt.subplots(1,2,figsize=(10,5))\n",
        "  word=train_data[train_data['target']==1]['text'].str.split().apply(lambda x : [len(i) for i in x])\n",
        "  sns.distplot(word.map(lambda x: np.mean(x)),ax=ax1,color='red')\n",
        "  ax1.set_title('disaster')\n",
        "  word=train_data[train_data['target']==0]['text'].str.split().apply(lambda x : [len(i) for i in x])\n",
        "  sns.distplot(word.map(lambda x: np.mean(x)),ax=ax2,color='green')\n",
        "  ax2.set_title('Not disaster')\n",
        "  fig.suptitle('Average word length in each tweet')\n",
        "  st.markdown('**Average word length in a Tweet (Train Data)**')\n",
        "  st.pyplot()\n",
        "with tab7:\n",
        "  #Loading the BERT Model\n",
        "  tokenizer = AutoTokenizer.from_pretrained('bert-large-uncased')\n",
        "  bert = TFBertModel.from_pretrained('bert-large-uncased')\n",
        "  #Conversion of our text data into BERT input format\n",
        "  print(\"max len of tweets\",max([len(x.split()) for x in train_data.text]))\n",
        "  max_length = 36\n",
        "  train_x = tokenizer(\n",
        "      text=train_data.text.tolist(),\n",
        "      add_special_tokens=True,\n",
        "      max_length=36,\n",
        "      truncation=True,\n",
        "      padding=True, \n",
        "      return_tensors='tf',\n",
        "      return_token_type_ids = False,\n",
        "      return_attention_mask = True,\n",
        "      verbose = True)\n",
        "  st.markdown('**Tensor Shape of Input ids**')\n",
        "  st.write(train_x['input_ids'].shape)\n",
        "  st.markdown('**Tensor Shape of Attention Mask**')\n",
        "  st.write(train_x['attention_mask'].shape)\n",
        "  train_y = train_data.target.values\n",
        "  input_ids = Input(shape=(max_len,), dtype=tf.int32, name=\"input_ids\")\n",
        "  input_mask = Input(shape=(max_len,), dtype=tf.int32, name=\"attention_mask\")\n",
        "  embeddings = bert(input_ids,attention_mask = input_mask)[1]\n",
        "  out = tf.keras.layers.Dropout(0.1)(embeddings)\n",
        "  out = Dense(128, activation='relu')(out)\n",
        "  out = tf.keras.layers.Dropout(0.1)(out)\n",
        "  out = Dense(32,activation = 'relu')(out)\n",
        "  y = Dense(1,activation = 'sigmoid')(out)\n",
        "  model = tf.keras.Model(inputs=[input_ids, input_mask], outputs=y)\n",
        "  model.layers[2].trainable = True\n",
        "  optimizer = Adam(\n",
        "      learning_rate=6e-06, # this learning rate is for bert model.\n",
        "      epsilon=1e-08,\n",
        "      decay=0.01,\n",
        "      clipnorm=1.0)\n",
        "\n",
        "  # Set loss and metrics\n",
        "  loss = BinaryCrossentropy(from_logits = True)\n",
        "  metric = BinaryAccuracy('accuracy'),\n",
        "  # Compile the model\n",
        "  model.compile(\n",
        "      optimizer = optimizer,\n",
        "      loss = loss, \n",
        "      metrics = metric)\n",
        "  final = model.fit(\n",
        "      x ={'input_ids':train_x['input_ids'],'attention_mask':train_x['attention_mask']} ,\n",
        "      y = train_y,\n",
        "      epochs=9,\n",
        "      batch_size=10\n",
        "  )\n",
        "  acc = final.history['accuracy']\n",
        "  loss = final.history['loss']\n",
        "  epochs_plot = np.arange(1, len(loss) + 1)\n",
        "  plt.clf()\n",
        "  plt.plot(epochs_plot, acc, 'r', label='Accuracy')\n",
        "  plt.plot(epochs_plot, loss, 'b:', label='Loss')\n",
        "  plt.title('VISUALIZATION OF LOSS AND ACCURACY CURVE')\n",
        "  plt.xlabel('Epochs')\n",
        "  plt.legend()\n",
        "  plt.show()\n",
        "  st.pyplot()\n",
        "  # Plot the loss and accuracy curves  \n",
        "  f = plt.figure(figsize=(20,7))\n",
        "  #Adding Subplot 1 (For Accuracy)\n",
        "  f.add_subplot(121)\n",
        "  plt.plot(final.epoch,final.history['accuracy'],label = \"accuracy\") # Accuracy curve \n",
        "  plt.title(\"Accuracy Curve\",fontsize=18)\n",
        "  plt.xlabel(\"Epochs\",fontsize=15)\n",
        "  plt.ylabel(\"Accuracy\",fontsize=15)\n",
        "  plt.grid(alpha=0.3)\n",
        "  plt.legend()\n",
        "  #Adding Subplot 1 (For Loss)\n",
        "  f.add_subplot(122)\n",
        "  plt.plot(final.epoch,final.history['loss'],label=\"loss\") # Loss curve \n",
        "  plt.title(\"Loss Curve\",fontsize=18)\n",
        "  plt.xlabel(\"Epochs\",fontsize=15)\n",
        "  plt.ylabel(\"Loss\",fontsize=15)\n",
        "  plt.grid(alpha=0.3)\n",
        "  plt.legend()\n",
        "  plt.show()\n",
        "  st.pyplot()\n",
        "  test_x = tokenizer(\n",
        "    text=test_data.text.tolist(),\n",
        "    add_special_tokens=True,\n",
        "    max_length=36,\n",
        "    truncation=True,\n",
        "    padding=True, \n",
        "    return_tensors='tf',\n",
        "    return_token_type_ids = False,\n",
        "    return_attention_mask = True,\n",
        "    verbose = True)\n",
        "  predicted = model.predict({'input_ids':test_x['input_ids'],'attention_mask':test_x['attention_mask']})\n",
        "  y_predicted = np.where(predicted>0.5,1,0)\n",
        "  y_predicted = y_predicted.reshape((1,3263))[0]\n",
        "  sample_data['id'] = test_data.id\n",
        "  sample_data['text'] = test_data.text\n",
        "  sample_data['target'] = y_predicted\n",
        "  st.dataframe(sample_data)"
      ],
      "metadata": {
        "colab": {
          "base_uri": "https://localhost:8080/"
        },
        "id": "U794cqP2fP44",
        "outputId": "9d1a39cf-1793-4a5b-a6b6-3c9cc93658e7"
      },
      "execution_count": 23,
      "outputs": [
        {
          "output_type": "stream",
          "name": "stdout",
          "text": [
            "Writing /content/Visualize_The_Data.py\n"
          ]
        }
      ]
    },
    {
      "cell_type": "code",
      "source": [
        "!streamlit run /content/Visualize_The_Data.py & npx localtunnel --port 8501"
      ],
      "metadata": {
        "colab": {
          "base_uri": "https://localhost:8080/"
        },
        "id": "q00nhnQhO2an",
        "outputId": "f88079b6-3650-4e87-dcc6-0ab774fc5f12"
      },
      "execution_count": 24,
      "outputs": [
        {
          "output_type": "stream",
          "name": "stdout",
          "text": [
            "\n",
            "Collecting usage statistics. To deactivate, set browser.gatherUsageStats to False.\n",
            "\u001b[0m\n",
            "\u001b[K\u001b[?25hnpx: installed 22 in 2.951s\n",
            "your url is: https://free-moments-flow-35-192-124-48.loca.lt\n",
            "\u001b[0m\n",
            "\u001b[34m\u001b[1m  You can now view your Streamlit app in your browser.\u001b[0m\n",
            "\u001b[0m\n",
            "\u001b[34m  Network URL: \u001b[0m\u001b[1mhttp://172.28.0.12:8501\u001b[0m\n",
            "\u001b[34m  External URL: \u001b[0m\u001b[1mhttp://35.192.124.48:8501\u001b[0m\n",
            "\u001b[0m\n",
            "2022-12-11 20:50:22.896607: I tensorflow/core/util/util.cc:169] oneDNN custom operations are on. You may see slightly different numerical results due to floating-point round-off errors from different computation orders. To turn them off, set the environment variable `TF_ENABLE_ONEDNN_OPTS=0`.\n",
            "\u001b[34m  Stopping...\u001b[0m\n",
            "Exception in thread ScriptRunner.scriptThread:\n",
            "Traceback (most recent call last):\n",
            "  File \"/usr/lib/python3.8/threading.py\", line 932, in _bootstrap_inner\n",
            "    self.run()\n",
            "  File \"/usr/lib/python3.8/threading.py\", line 870, in run\n",
            "    self._target(*self._args, **self._kwargs)\n",
            "  File \"/usr/local/lib/python3.8/dist-packages/streamlit/runtime/scriptrunner/script_runner.py\", line 298, in _run_script_thread\n",
            "    self._run_script(request.rerun_data)\n",
            "  File \"/usr/local/lib/python3.8/dist-packages/streamlit/runtime/scriptrunner/script_runner.py\", line 608, in _run_script\n",
            "    self._on_script_finished(ctx, finished_event)\n",
            "  File \"/usr/local/lib/python3.8/dist-packages/streamlit/runtime/scriptrunner/script_runner.py\", line 628, in _on_script_finished\n",
            "    self.on_event.send(self, event=event)\n",
            "  File \"/usr/local/lib/python3.8/dist-packages/blinker/base.py\", line 263, in send\n",
            "    return [(receiver, receiver(sender, **kwargs))\n",
            "  File \"/usr/local/lib/python3.8/dist-packages/blinker/base.py\", line 263, in <listcomp>\n",
            "    return [(receiver, receiver(sender, **kwargs))\n",
            "  File \"/usr/local/lib/python3.8/dist-packages/streamlit/runtime/app_session.py\", line 401, in _on_scriptrunner_event\n",
            "    self._event_loop.call_soon_threadsafe(\n",
            "  File \"/usr/lib/python3.8/asyncio/base_events.py\", line 764, in call_soon_threadsafe\n",
            "    self._check_closed()\n",
            "  File \"/usr/lib/python3.8/asyncio/base_events.py\", line 508, in _check_closed\n",
            "    raise RuntimeError('Event loop is closed')\n",
            "RuntimeError: Event loop is closed\n",
            "^C\n"
          ]
        }
      ]
    }
  ]
}